{
 "cells": [
  {
   "cell_type": "code",
   "execution_count": 1,
   "metadata": {},
   "outputs": [],
   "source": [
    "def camelize(key):\n",
    "    \"\"\"Convert a python_style_variable_name to lowerCamelCase.\n",
    "    Examples\n",
    "    --------\n",
    "    >>> camelize('variable_name')\n",
    "    'variableName'\n",
    "    >>> camelize('variableName')\n",
    "    'variableName'\n",
    "    \"\"\"\n",
    "    return ''.join(x.capitalize() if i > 0 else x\n",
    "                   for i, x in enumerate(key.split('_')))"
   ]
  },
  {
   "cell_type": "code",
   "execution_count": 2,
   "metadata": {},
   "outputs": [],
   "source": [
    "def parse_options(**kwargs):\n",
    "    \"\"\"Return a dict with lower-camelcase keys and non-None values..\"\"\"\n",
    "    return {camelize(key): value\n",
    "            for key, value in kwargs.items()\n",
    "            if value is not None}"
   ]
  },
  {
   "cell_type": "code",
   "execution_count": 18,
   "metadata": {},
   "outputs": [
    {
     "name": "stdout",
     "output_type": "stream",
     "text": [
      "{'a_a23': 5} debug------1\n",
      "{'a_a23': 5} debug-----2\n",
      "{'option': {'abd_dfg': 6}, 'opt': {'hg_uy': 0}, 'aA23': 5} debug-----3\n"
     ]
    }
   ],
   "source": [
    "def check(options= None,**kwargs):\n",
    "    print(options,'debug------1')\n",
    "    if options is not None:\n",
    "        print(options,'debug-----2')\n",
    "        kwargs.update(options)\n",
    "    options = parse_options(**kwargs)\n",
    "    print(options,'debug-----3')\n",
    "    \n",
    "check(options = {'a_a23':5},option={'abd_dfg':6},opt ={'hg_uy':0})"
   ]
  }
 ],
 "metadata": {
  "kernelspec": {
   "display_name": "Python 3",
   "language": "python",
   "name": "python3"
  },
  "language_info": {
   "codemirror_mode": {
    "name": "ipython",
    "version": 3
   },
   "file_extension": ".py",
   "mimetype": "text/x-python",
   "name": "python",
   "nbconvert_exporter": "python",
   "pygments_lexer": "ipython3",
   "version": "3.7.3"
  }
 },
 "nbformat": 4,
 "nbformat_minor": 2
}
